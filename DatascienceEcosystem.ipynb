{
 "cells": [
  {
   "cell_type": "markdown",
   "id": "2da55af6-46c6-4203-9252-c35810b0a7c4",
   "metadata": {},
   "source": [
    "# Data Science Tools and Ecosystem"
   ]
  },
  {
   "cell_type": "markdown",
   "id": "f8923cba-08dc-4454-b279-45467d76aea3",
   "metadata": {},
   "source": [
    "## Author\n",
    "Kaycee Molina"
   ]
  },
  {
   "cell_type": "markdown",
   "id": "83081eeb-27b0-444d-aaed-4f269cb5c7de",
   "metadata": {},
   "source": [
    "In this notebook, Data Science Tools and Ecosystem are summarized."
   ]
  },
  {
   "cell_type": "markdown",
   "id": "ef87bc49-376d-4f82-a842-27b423a20213",
   "metadata": {},
   "source": [
    "Objectives: \n",
    "* List Popular Languages for Data Science\n",
    "* Demonstrate Examples of Evaluating Arithmetic in Python \n",
    "* List Commonly Used Libraries in Data Science"
   ]
  },
  {
   "cell_type": "markdown",
   "id": "17683213-bcf3-4981-8762-d9fb25967a4e",
   "metadata": {},
   "source": [
    "Some of the popular languages that Data Scientists use are:\n",
    "1. python\n",
    "2. R\n",
    "3. SQL"
   ]
  },
  {
   "cell_type": "markdown",
   "id": "f088ef8b-bd97-4c23-acef-4e8d5e0cb065",
   "metadata": {},
   "source": [
    "Some of the commonly used libraries used by Data Scientists include:\n",
    "1. Scientific Computing Libraries\n",
    "2. Visualization Libraries \n",
    "3. High Level Machine Learning Libraries"
   ]
  },
  {
   "cell_type": "markdown",
   "id": "7d3ae03f-b7ad-43f8-ad7d-528070ca3dea",
   "metadata": {},
   "source": [
    "|Data Science Tools|\n",
    "| ----- |\n",
    "| My SQL |\n",
    "| PostgreSQL|\n",
    "| Apache Cassandra |\n"
   ]
  },
  {
   "cell_type": "markdown",
   "id": "e5cdcd2e-dca8-4511-a611-22893ec33f8d",
   "metadata": {},
   "source": [
    "### Below are a few examples of evaluating arithmetic expressions in Python"
   ]
  },
  {
   "cell_type": "code",
   "execution_count": 5,
   "id": "a3203e57-e4fa-48b7-b724-548dd1860604",
   "metadata": {
    "tags": []
   },
   "outputs": [
    {
     "name": "stdout",
     "output_type": "stream",
     "text": [
      "This is a simply arithmetic expression to multiply then add integers\n"
     ]
    },
    {
     "data": {
      "text/plain": [
       "17"
      ]
     },
     "execution_count": 5,
     "metadata": {},
     "output_type": "execute_result"
    }
   ],
   "source": [
    "print(\"This is a simply arithmetic expression to multiply then add integers\")\n",
    "(3*4)+5"
   ]
  },
  {
   "cell_type": "code",
   "execution_count": 12,
   "id": "ad7bd6e0-270f-4ea2-8860-6d706515584d",
   "metadata": {
    "tags": []
   },
   "outputs": [
    {
     "name": "stdout",
     "output_type": "stream",
     "text": [
      "This will convert 200 minutes to hours by dividing by 60\n"
     ]
    },
    {
     "data": {
      "text/plain": [
       "3.3333333333333335"
      ]
     },
     "execution_count": 12,
     "metadata": {},
     "output_type": "execute_result"
    }
   ],
   "source": [
    "print(\"This will convert 200 minutes to hours by dividing by 60\") \n",
    "(200/60)"
   ]
  },
  {
   "cell_type": "code",
   "execution_count": null,
   "id": "f59631e4-0b0b-4de3-a8d2-f53bf3b785f1",
   "metadata": {},
   "outputs": [],
   "source": []
  }
 ],
 "metadata": {
  "kernelspec": {
   "display_name": "Python",
   "language": "python",
   "name": "conda-env-python-py"
  },
  "language_info": {
   "codemirror_mode": {
    "name": "ipython",
    "version": 3
   },
   "file_extension": ".py",
   "mimetype": "text/x-python",
   "name": "python",
   "nbconvert_exporter": "python",
   "pygments_lexer": "ipython3",
   "version": "3.7.12"
  }
 },
 "nbformat": 4,
 "nbformat_minor": 5
}
